{
 "cells": [
  {
   "cell_type": "code",
   "execution_count": 14,
   "id": "2dc19e7b-e816-4aef-b203-15f50bbea6e1",
   "metadata": {},
   "outputs": [],
   "source": [
    "# Load required libraries\n",
    "library(tidyverse)\n",
    "\n",
    "# Load your dataset\n",
    "data <- read.csv(\"C:\\\\Users\\\\kehin\\\\Downloads\\\\archive (3)\\\\insurance.csv\")\n",
    "\n"
   ]
  },
  {
   "cell_type": "code",
   "execution_count": 18,
   "id": "55849f49-1c92-462d-a222-80f1831e8954",
   "metadata": {},
   "outputs": [
    {
     "name": "stdout",
     "output_type": "stream",
     "text": [
      "Rows: 1,338\n",
      "Columns: 7\n",
      "$ age      \u001b[3m\u001b[90m<int>\u001b[39m\u001b[23m 19\u001b[90m, \u001b[39m18\u001b[90m, \u001b[39m28\u001b[90m, \u001b[39m33\u001b[90m, \u001b[39m32\u001b[90m, \u001b[39m31\u001b[90m, \u001b[39m46\u001b[90m, \u001b[39m37\u001b[90m, \u001b[39m37\u001b[90m, \u001b[39m60\u001b[90m, \u001b[39m25\u001b[90m, \u001b[39m62\u001b[90m, \u001b[39m23\u001b[90m, \u001b[39m56\u001b[90m, \u001b[39m27\u001b[90m, \u001b[39m1…\n",
      "$ sex      \u001b[3m\u001b[90m<chr>\u001b[39m\u001b[23m \"female\"\u001b[90m, \u001b[39m\"male\"\u001b[90m, \u001b[39m\"male\"\u001b[90m, \u001b[39m\"male\"\u001b[90m, \u001b[39m\"male\"\u001b[90m, \u001b[39m\"female\"\u001b[90m, \u001b[39m\"female\"\u001b[90m,\u001b[39m…\n",
      "$ bmi      \u001b[3m\u001b[90m<dbl>\u001b[39m\u001b[23m 27.900\u001b[90m, \u001b[39m33.770\u001b[90m, \u001b[39m33.000\u001b[90m, \u001b[39m22.705\u001b[90m, \u001b[39m28.880\u001b[90m, \u001b[39m25.740\u001b[90m, \u001b[39m33.440\u001b[90m, \u001b[39m27.74…\n",
      "$ children \u001b[3m\u001b[90m<int>\u001b[39m\u001b[23m 0\u001b[90m, \u001b[39m1\u001b[90m, \u001b[39m3\u001b[90m, \u001b[39m0\u001b[90m, \u001b[39m0\u001b[90m, \u001b[39m0\u001b[90m, \u001b[39m1\u001b[90m, \u001b[39m3\u001b[90m, \u001b[39m2\u001b[90m, \u001b[39m0\u001b[90m, \u001b[39m0\u001b[90m, \u001b[39m0\u001b[90m, \u001b[39m0\u001b[90m, \u001b[39m0\u001b[90m, \u001b[39m0\u001b[90m, \u001b[39m1\u001b[90m, \u001b[39m1\u001b[90m, \u001b[39m0\u001b[90m, \u001b[39m0\u001b[90m, \u001b[39m0\u001b[90m, \u001b[39m0…\n",
      "$ smoker   \u001b[3m\u001b[90m<chr>\u001b[39m\u001b[23m \"yes\"\u001b[90m, \u001b[39m\"no\"\u001b[90m, \u001b[39m\"no\"\u001b[90m, \u001b[39m\"no\"\u001b[90m, \u001b[39m\"no\"\u001b[90m, \u001b[39m\"no\"\u001b[90m, \u001b[39m\"no\"\u001b[90m, \u001b[39m\"no\"\u001b[90m, \u001b[39m\"no\"\u001b[90m, \u001b[39m\"no\"\u001b[90m, \u001b[39m…\n",
      "$ region   \u001b[3m\u001b[90m<chr>\u001b[39m\u001b[23m \"southwest\"\u001b[90m, \u001b[39m\"southeast\"\u001b[90m, \u001b[39m\"southeast\"\u001b[90m, \u001b[39m\"northwest\"\u001b[90m, \u001b[39m\"northwes…\n",
      "$ charges  \u001b[3m\u001b[90m<dbl>\u001b[39m\u001b[23m 16884.924\u001b[90m, \u001b[39m1725.552\u001b[90m, \u001b[39m4449.462\u001b[90m, \u001b[39m21984.471\u001b[90m, \u001b[39m3866.855\u001b[90m, \u001b[39m3756.622\u001b[90m,\u001b[39m…\n"
     ]
    },
    {
     "data": {
      "text/html": [
       "<style>\n",
       ".list-inline {list-style: none; margin:0; padding: 0}\n",
       ".list-inline>li {display: inline-block}\n",
       ".list-inline>li:not(:last-child)::after {content: \"\\00b7\"; padding: 0 .5ex}\n",
       "</style>\n",
       "<ol class=list-inline><li>'age'</li><li>'sex'</li><li>'bmi'</li><li>'children'</li><li>'smoker'</li><li>'region'</li><li>'charges'</li></ol>\n"
      ],
      "text/latex": [
       "\\begin{enumerate*}\n",
       "\\item 'age'\n",
       "\\item 'sex'\n",
       "\\item 'bmi'\n",
       "\\item 'children'\n",
       "\\item 'smoker'\n",
       "\\item 'region'\n",
       "\\item 'charges'\n",
       "\\end{enumerate*}\n"
      ],
      "text/markdown": [
       "1. 'age'\n",
       "2. 'sex'\n",
       "3. 'bmi'\n",
       "4. 'children'\n",
       "5. 'smoker'\n",
       "6. 'region'\n",
       "7. 'charges'\n",
       "\n",
       "\n"
      ],
      "text/plain": [
       "[1] \"age\"      \"sex\"      \"bmi\"      \"children\" \"smoker\"   \"region\"   \"charges\" "
      ]
     },
     "metadata": {},
     "output_type": "display_data"
    }
   ],
   "source": [
    "# Checking the dataset\n",
    "glimpse(data)\n",
    "colnames(data)\n"
   ]
  },
  {
   "cell_type": "code",
   "execution_count": 26,
   "id": "37ebd08b-035f-45df-8304-844604a87632",
   "metadata": {},
   "outputs": [],
   "source": [
    "# Data cleaning: drop missing values if any\n",
    "data <- data %>% drop_na()\n",
    "\n",
    "# Convert categorical variables to factors\n",
    "data <- data %>%\n",
    "  mutate(\n",
    "    sex = as.factor(sex),\n",
    "    smoker = as.factor(smoker),\n",
    "    region = as.factor(region)\n",
    "  )\n"
   ]
  },
  {
   "cell_type": "code",
   "execution_count": 28,
   "id": "d20183dd-539c-4a17-bc54-6a18f8a4b8c7",
   "metadata": {},
   "outputs": [
    {
     "data": {
      "image/png": "[encoded data removed]",
      "text/plain": [
       "plot without title"
      ]
     },
     "metadata": {
      "image/png": {
       "height": 420,
       "width": 420
      }
     },
     "output_type": "display_data"
    }
   ],
   "source": [
    "# Exploratory plot: distribution of charges\n",
    "ggplot(data, aes(x = charges)) +\n",
    "  geom_histogram(bins = 30, fill = \"lightblue\", color = \"black\") +\n",
    "  labs(title = \"Distribution of Charges\") +\n",
    "  theme_minimal()"
   ]
  },
  {
   "cell_type": "code",
   "execution_count": 30,
   "id": "984d895a-710c-469d-9d79-2f67169c1ed0",
   "metadata": {},
   "outputs": [
    {
     "data": {
      "text/plain": [
       "\n",
       "Call:\n",
       "lm(formula = charges ~ age + bmi + children + sex + smoker + \n",
       "    region, data = data)\n",
       "\n",
       "Residuals:\n",
       "     Min       1Q   Median       3Q      Max \n",
       "-11304.9  -2848.1   -982.1   1393.9  29992.8 \n",
       "\n",
       "Coefficients:\n",
       "                Estimate Std. Error t value Pr(>|t|)    \n",
       "(Intercept)     -11938.5      987.8 -12.086  < 2e-16 ***\n",
       "age                256.9       11.9  21.587  < 2e-16 ***\n",
       "bmi                339.2       28.6  11.860  < 2e-16 ***\n",
       "children           475.5      137.8   3.451 0.000577 ***\n",
       "sexmale           -131.3      332.9  -0.394 0.693348    \n",
       "smokeryes        23848.5      413.1  57.723  < 2e-16 ***\n",
       "regionnorthwest   -353.0      476.3  -0.741 0.458769    \n",
       "regionsoutheast  -1035.0      478.7  -2.162 0.030782 *  \n",
       "regionsouthwest   -960.0      477.9  -2.009 0.044765 *  \n",
       "---\n",
       "Signif. codes:  0 '***' 0.001 '**' 0.01 '*' 0.05 '.' 0.1 ' ' 1\n",
       "\n",
       "Residual standard error: 6062 on 1329 degrees of freedom\n",
       "Multiple R-squared:  0.7509,\tAdjusted R-squared:  0.7494 \n",
       "F-statistic: 500.8 on 8 and 1329 DF,  p-value: < 2.2e-16\n"
      ]
     },
     "metadata": {},
     "output_type": "display_data"
    }
   ],
   "source": [
    "# Linear regression: predict charges\n",
    "model <- lm(charges ~ age + bmi + children + sex + smoker + region, data = data)\n",
    "\n",
    "# Model summary\n",
    "summary(model)\n"
   ]
  },
  {
   "cell_type": "code",
   "execution_count": 32,
   "id": "d5a43ee9-7943-4481-a9d9-f487c376a8b3",
   "metadata": {},
   "outputs": [
    {
     "name": "stdout",
     "output_type": "stream",
     "text": [
      "RMSE: 6041.68 \n",
      "R-squared: 0.751 \n"
     ]
    }
   ],
   "source": [
    "# Calculate RMSE and R-squared\n",
    "predictions <- predict(model, data)\n",
    "rmse <- sqrt(mean((predictions - data$charges)^2))\n",
    "r_squared <- summary(model)$r.squared\n",
    "\n",
    "cat(\"RMSE:\", round(rmse, 2), \"\\n\")\n",
    "cat(\"R-squared:\", round(r_squared, 3), \"\\n\")\n"
   ]
  },
  {
   "cell_type": "code",
   "execution_count": 34,
   "id": "4ff70a04-d66d-45ab-adeb-674b864136e3",
   "metadata": {},
   "outputs": [
    {
     "data": {
      "image/png": "[encoded data removed]",
      "text/plain": [
       "Plot with title \"\""
      ]
     },
     "metadata": {
      "image/png": {
       "height": 420,
       "width": 420
      }
     },
     "output_type": "display_data"
    }
   ],
   "source": [
    "# Diagnostic plots\n",
    "par(mfrow = c(2, 2))\n",
    "plot(model)"
   ]
  },
  {
   "cell_type": "code",
   "execution_count": null,
   "id": "0ed58f71-4ef4-481b-804e-16ac8f6cf67f",
   "metadata": {},
   "outputs": [],
   "source": []
  },
  {
   "cell_type": "code",
   "execution_count": null,
   "id": "1fba6df7-0b86-4a5f-aaa5-5d5d37a85310",
   "metadata": {},
   "outputs": [],
   "source": []
  }
 ],
 "metadata": {
  "kernelspec": {
   "display_name": "R",
   "language": "R",
   "name": "ir"
  },
  "language_info": {
   "codemirror_mode": "r",
   "file_extension": ".r",
   "mimetype": "text/x-r-source",
   "name": "R",
   "pygments_lexer": "r",
   "version": "4.5.1"
  }
 },
 "nbformat": 4,
 "nbformat_minor": 5
}
