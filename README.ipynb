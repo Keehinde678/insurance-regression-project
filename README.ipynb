{
 "cells": [
  {
   "cell_type": "markdown",
   "id": "c96dfbd6-3911-441c-aa62-c3542b8229ab",
   "metadata": {},
   "source": [
    "# Predicting Health Insurance Costs: A Linear Regression Project in Python and R\n",
    "\n",
    "\n",
    "\n",
    "\n",
    "\n",
    "\n"
   ]
  },
  {
   "cell_type": "markdown",
   "id": "fc46e344-60e6-47b6-88d2-e177169766c1",
   "metadata": {},
   "source": [
    "\n",
    "## Objective\n",
    "This project applies linear regression techniques to predict This project explores how demographic and behavioral factors influence individual medical insurance costs using linear regression models in both Python and R.\n",
    "\n",
    "The project is completed in two parts:\n",
    "- **Part I**: Interactive analysis and modeling using Jupyter Notebooks.\n",
    "- **Part II**: Standalone scripts that take command-line arguments and generate outputs automatically.\n",
    "\n",
    "\n"
   ]
  },
  {
   "cell_type": "markdown",
   "id": "d505cdf1-4883-4e06-93f2-7f010083a395",
   "metadata": {},
   "source": [
    "### Introduction"
   ]
  },
  {
   "cell_type": "markdown",
   "id": "5db7b045-381a-40b1-9220-ff5d3f0778a9",
   "metadata": {},
   "source": [
    " Understanding the factors that drive medical insurance costs is essential for improving healthcare planning, affordability, and risk assessment. Insurance charges are often influenced by a combination of lifestyle, demographic, and clinical variables—such as age, BMI, smoking status, and region of residence. In the United States, rising healthcare costs have made predictive models increasingly relevant for insurers and policymakers alike.\n",
    "\n",
    "In this project, we build linear regression models using Python and R to predict an individual’s insurance charges based on real-world health and demographic data. By analyzing features such as age, BMI, number of children, gender, smoking status, and region, the goal is to explore how these variables contribute to healthcare costs—and to compare modeling approaches across two programming environments.\n",
    "\n",
    "\n"
   ]
  },
  {
   "cell_type": "markdown",
   "id": "eecfe199-fc57-4f21-9b81-aa3335e9f8ba",
   "metadata": {},
   "source": [
    "# Dataset"
   ]
  },
  {
   "cell_type": "markdown",
   "id": "0d9dac33-d8bf-4cee-96fc-9413064d6556",
   "metadata": {},
   "source": [
    "## About the Dataset\n",
    "\n",
    "The dataset used in this project is adapted from *Machine Learning with R* by Brett Lantz and has been cleaned and formatted for educational use. It contains health insurance information for 1,338 individuals and includes seven key features related to demographics, health behaviors, and insurance charges.\n",
    "\n",
    "### Dataset Features\n",
    "\n",
    "- **age**: Age of the primary beneficiary  \n",
    "- **sex**: Gender of the policyholder (male/female)  \n",
    "- **bmi**: Body Mass Index (kg/m²), a measure of body fat based on height and weight  \n",
    "- **children**: Number of dependents covered by the insurance plan  \n",
    "- **smoker**: Smoking status (yes/no)  \n",
    "- **region**: Residential region in the U.S. (northeast, southeast, southwest, northwest)  \n",
    "- **charges**: Individual medical insurance costs billed (in USD)  \n",
    "\n",
    "This dataset provides a realistic basis for exploring how lifestyle and demographic factors influence health insurance costs, making it ideal for linear regression analysis and predictive modeling.\n",
    "\n"
   ]
  },
  {
   "cell_type": "markdown",
   "id": "b7141632-a282-486d-a321-80dd6bbeac37",
   "metadata": {},
   "source": [
    "## Python Exploratory Data Analysis"
   ]
  },
  {
   "cell_type": "markdown",
   "id": "4922a9f6-603d-4111-8a23-8a3624360602",
   "metadata": {},
   "source": [
    "# Exploratory Data Analysis (Python)\n",
    "\n",
    "import pandas as pd\n",
    "import matplotlib.pyplot as plt\n",
    "import seaborn as sns\n",
    "\n",
    "# Load the dataset\n",
    "df = pd.read_csv('regression_data.csv')\n",
    "\n",
    "# --- Data Overview ---\n",
    "print(df.info())\n",
    "print(df.describe())\n",
    "\n",
    "# --- Distribution Plots ---\n",
    "\n",
    "# Age distribution\n",
    "plt.figure(figsize=(8,4))\n",
    "sns.histplot(df['age'], bins=30, kde=True)\n",
    "plt.title('Age Distribution')\n",
    "plt.xlabel('Age')\n",
    "plt.ylabel('Count')\n",
    "plt.show()\n",
    "\n",
    "# BMI distribution\n",
    "plt.figure(figsize=(8,4))\n",
    "sns.histplot(df['bmi'], bins=30, kde=True)\n",
    "plt.title('BMI Distribution')\n",
    "plt.xlabel('BMI')\n",
    "plt.ylabel('Count')\n",
    "plt.show()\n",
    "\n",
    "# --- Categorical Variable Analysis ---\n",
    "\n",
    "# Count of smokers vs non-smokers\n",
    "plt.figure(figsize=(6,4))\n",
    "sns.countplot(x='smoker', data=df)\n",
    "plt.title('Count of Smokers vs Non-Smokers')\n",
    "plt.xlabel('Smoker')\n",
    "plt.ylabel('Count')\n",
    "plt.show()\n",
    "\n",
    "# Charges by smoking status (boxplot)\n",
    "plt.figure(figsize=(6,6))\n",
    "sns.boxplot(x='smoker', y='charges', data=df)\n",
    "plt.title('Insurance Charges by Smoking Status')\n",
    "plt.xlabel('Smoker')\n",
    "plt.ylabel('Charges (USD)')\n",
    "plt.show()\n",
    "\n",
    "# --- Relationships Between Variables ---\n",
    "\n",
    "# Scatter plot: Age vs Charges, colored by smoker\n",
    "plt.figure(figsize=(8,5))\n",
    "sns.scatterplot(x='age', y='charges', hue='smoker', data=df)\n",
    "plt.title('Age vs Charges by Smoking Status')\n",
    "plt.xlabel('Age')\n",
    "plt.ylabel('Charges (USD)')\n",
    "plt.show()\n",
    "\n",
    "# Scatter plot: BMI vs Charges, colored by smoker\n",
    "plt.figure(figsize=(8,5))\n",
    "sns.scatterplot(x='bmi', y='charges', hue='smoker', data=df)\n",
    "plt.title('BMI vs Charges by Smoking Status')\n",
    "plt.xlabel('BMI')\n",
    "plt.ylabel('Charges (USD)')\n",
    "plt.show()\n",
    "\n",
    "# --- Correlation Matrix ---\n",
    "\n",
    "plt.figure(figsize=(6,5))\n",
    "corr = df[['age', 'bmi', 'children', 'charges']].corr()\n",
    "sns.heatmap(corr, annot\n",
    "\n"
   ]
  },
  {
   "cell_type": "markdown",
   "id": "fa96fe5e-8941-4bfb-87cc-7c6024c70835",
   "metadata": {},
   "source": [
    "### Distribution of Average Glucose Level  \n",
    "![Distribution of Average Glucose Level](images/glucose_distribution.png)"
   ]
  },
  {
   "cell_type": "markdown",
   "id": "b5e345cc-8ab7-4f5f-ae09-08090a902d72",
   "metadata": {},
   "source": [
    "### Distribution of Age  \n",
    "![Distribution of Age](images/age_distribution.png)\n"
   ]
  },
  {
   "cell_type": "markdown",
   "id": "462b97be-a1d4-4f43-8e51-4eae0dbd6cca",
   "metadata": {},
   "source": [
    "### Correlation Heatmap  \n",
    "![Correlation Heatmap](images/correlation_heatmap.png)"
   ]
  },
  {
   "cell_type": "markdown",
   "id": "bba1aa61-4c3e-4f81-a178-a09d92b6d31c",
   "metadata": {},
   "source": [
    "### Scatterplot: Age vs Average Glucose Level  \n",
    "![Age vs Average Glucose Level](images/age_vs_glucose.png)"
   ]
  },
  {
   "cell_type": "markdown",
   "id": "6115b6ab-79cd-406e-b3e2-8fd319a2db49",
   "metadata": {},
   "source": [
    "## R Exploratory Data Analysis"
   ]
  },
  {
   "cell_type": "markdown",
   "id": "311b44f1",
   "metadata": {},
   "source": [
    " ![insurance_charges_vs_bmi.png](attachment:insurance_charges_vs_bmi.png) ![insurance_charges_by_smoker.png](attachment:insurance_charges_by_smoker.png) ![insurance_charges_vs_age.png](attachment:insurance_charges_vs_age.png)\n"
   ]
  },
  {
   "cell_type": "markdown",
   "id": "698b3bf5-4824-4edf-b76d-8e564ffac3ef",
   "metadata": {},
   "source": [
    "### Encoding Categorical Variables"
   ]
  },
  {
   "cell_type": "markdown",
   "id": "f568548d-cf2f-4541-b4e5-edaf796fc405",
   "metadata": {},
   "source": [
    "Linear regression models require numerical inputs. Hence, all categorical features were transformed into binary (dummy) variables using one-hot encoding, with the first category dropped to avoid multicollinearity.\n",
    "\n",
    "### Transformed columns:\n",
    "In the dataset, some variables represent categories rather than numerical values, these are called categorical variables. Examples in this dataset include:\n",
    "\n",
    "sex:gender of the insurance policyholder (male or female)\n",
    "\n",
    "smoker:smoking status (yes or no)\n",
    "\n",
    "region:residential region (northeast, southeast, southwest, northwest)\n",
    "\n",
    "To use these variables effectively in statistical modeling, especially linear regression, they need to be converted into factors in R. This process is called encoding categorical variables.\n",
    "\n",
    "##### Why this matters: Encoding categorical data allows the linear regression algorithm to interpret the relationships between categories and the target variable numerically."
   ]
  },
  {
   "cell_type": "markdown",
   "id": "014897e3-4e50-4810-b41f-ada433828e1f",
   "metadata": {},
   "source": [
    "## Feature Selection\n",
    "Features were selected based on domain relevance and exploratory data analysis. Only variables with potential predictive value for stroke risk were retained.\n",
    "\n",
    "Included features:\n",
    "\n",
    "Age\n",
    "\n",
    "Hypertension\n",
    "\n",
    "Heart disease\n",
    "\n",
    "Average glucose level\n",
    "\n",
    "BMI\n",
    "\n",
    "Selected one-hot encoded categories\n",
    "\n",
    "##### Why this matters: Reducing the number of irrelevant or redundant features helps prevent overfitting and ensures the model captures meaningful patterns.\n",
    "\n",
    " ## Handling Missing Values\n",
    "Missing values were handled carefully to preserve data integrity.\n",
    "\n",
    "Rows with missing bmi values were dropped.\n",
    "\n",
    "Categorical columns like smoking_status were encoded after addressing missing entries (if any).\n",
    "\n",
    " ##### Why this matters: Missing data can skew results or reduce model accuracy, so addressing it upfront helps maintain a reliable dataset."
   ]
  },
  {
   "cell_type": "markdown",
   "id": "bf9763e3-758a-4365-ab24-12ec626dd960",
   "metadata": {},
   "source": [
    "## Models and Results"
   ]
  },
  {
   "cell_type": "markdown",
   "id": "ff865fb6-6305-42b5-baec-48bb78d7f972",
   "metadata": {},
   "source": [
    "### Linear Regression\n",
    "After exploring the dataset, linear regression models were built in both Python and R to predict health insurance charges based on demographic and behavioral factors such as age, BMI, and smoking status. The models help quantify the relationships and identify key predictors impacting insurance costs.\n",
    "##### Python Implementation\n",
    "The Python model uses the statsmodels library.\n",
    "\n",
    "1. Categorical variables (like smoker) were converted into numerical binary format.\n",
    "\n",
    "2. Multiple predictors (age, bmi, smoker) were included.\n",
    "\n",
    "3. The model summary includes coefficients, R-squared, and statistical significance for each variable."
   ]
  },
  {
   "attachments": {
    "image.png": {
     "image/png": "[encoded data removed]"
    }
   },
   "cell_type": "markdown",
   "id": "4b04a8da-12db-4b72-a499-9a26871725ee",
   "metadata": {},
   "source": [
    "### Results\n",
    "![image.png](attachment:image.png)\n",
    "\n"
   ]
  },
  {
   "cell_type": "markdown",
   "id": "42174f4f-0913-47a4-a79e-5edd32b33996",
   "metadata": {},
   "source": [
    " | Feature           | Coefficient  |\n",
    "| ----------------- | ------------ |\n",
    "| smoker\\_yes       | 23651.128856 |\n",
    "| region\\_southwest | -809.799354  |\n",
    "| region\\_southeast | -657.864297  |\n",
    "| children          | 425.278784   |\n",
    "| region\\_northwest | -370.677326  |\n",
    "| bmi               | 337.092552   |\n",
    "| age               | 256.975706   |\n",
    "| sex\\_male         | -18.591692   |\n",
    "\n",
    "### R Model Results\n",
    "| Metric                   | Value     |\n",
    "| ------------------------ | --------- |\n",
    "| Residual standard error  | 4846      |\n",
    "| Degrees of freedom       | 1328      |\n",
    "| Multiple R-squared       | 0.8409    |\n",
    "| Adjusted R-squared       | 0.8398    |\n",
    "| F-statistic (9, 1328 DF) | 780       |\n",
    "| F-statistic p-value      | < 2.2e-16 |\n"
   ]
  },
  {
   "cell_type": "markdown",
   "id": "f6dc4d2b-9b03-411c-910b-fad0bfbf423a",
   "metadata": {},
   "source": [
    "### Model Summary"
   ]
  },
  {
   "cell_type": "markdown",
   "id": "786fffff-e0bc-47ce-9db1-000db64485e1",
   "metadata": {},
   "source": [
    "### R Model Summary (Simple Linear Regression: Charges predicted by Age)\n",
    "The simple linear regression model in R examined the relationship between insurance charges and age. The analysis showed that age is a statistically significant predictor: for each additional year of age, insurance charges increase by approximately $258. The model explains about 9% of the variation in charges, indicating that while age is an important factor, many other variables contribute to insurance costs. The residual standard error was around $11,560, reflecting typical prediction errors.\n",
    "### Python Model Summary (Multiple Linear Regression: Charges predicted by smoking status, region, children, BMI, age, and sex)\n",
    "The multiple linear regression model in Python incorporated several predictors simultaneously. Smoking status had the largest effect, increasing charges by over $23,600 for smokers compared to non-smokers. Regional effects varied, with residents in the Southwest, Southeast, and Northwest regions associated with lower charges relative to the baseline region. Each additional child increased charges by about $425. Higher BMI and increasing age also contributed positively, increasing charges by roughly $337 per BMI unit and $257 per year of age, respectively. Being male was associated with a small decrease in charges, about $19 less, holding other factors constant.\n",
    "\n",
    "# Plot 1\n",
    "plot_charges <- ggplot(insurance, aes(x = charges)) +\n",
    "  geom_histogram(fill = \"lightblue\", bins = 30) +\n",
    "  theme_minimal() +\n",
    "  labs(title = \"Distribution of Insurance Charges\")\n",
    "\n",
    "ggsave(\"plot_charges.png\", plot = plot_charges, width = 6, height = 4, dpi = 300)\n",
    "\n",
    "# Plot 2\n",
    "plot_smoker <- ggplot(insurance, aes(x = smoker, y = charges, fill = smoker)) +\n",
    "  geom_boxplot() +\n",
    "  labs(title = \"Charges by Smoking Status\") +\n",
    "  theme_minimal()\n",
    "\n",
    "ggsave(\"plot_smoker.png\", plot = plot_smoker, width = 6, height = 4, dpi = 300)\n"
   ]
  },
  {
   "cell_type": "markdown",
   "id": "5476b0b7-abd8-4973-9a17-dd616ad89c9f",
   "metadata": {},
   "source": [
    "# Predicting Health Insurance Costs: A Linear Regression Project in Python and R\n",
    "\n",
    "## Repository Details\n",
    "\n",
    "This repository contains analysis of insurance charges using linear regression models in both R and Python. The project explores how demographic and behavioral factors such as age, BMI, smoking status, and region influence individual medical insurance costs.\n",
    "\n",
    "| File/Folder                           | Description                                             |\n",
    "| ------------------------------------- | ------------------------------------------------------- |\n",
    "| `insurance.csv`                       | Cleaned dataset used for analysis                       |\n",
    "| `linear_regression_r.R`               | R script for simple linear regression (`charges ~ age`) |\n",
    "| `insurance_analysis.ipynb`            | Python notebook for multivariate linear regression      |\n",
    "| `model_summary.md`                    | Summary of results from both R and Python models        |\n",
    "| `data visualizations/`                | Folder containing saved visualizations (.png, .emf)     |\n",
    "| ├── `insurance_charges_vs_age.png`    | Scatter plot of charges vs. age                         |\n",
    "| ├── `insurance_charges_vs_bmi.png`    | Scatter plot of charges vs. BMI                         |\n",
    "| └── `insurance_charges_by_smoker.png` | Charges vs. BMI colored by smoking status               |\n",
    "| `README.md`                           | Project overview and usage instructions                 |\n",
    "\n",
    "\n",
    "\n",
    "### Dataset\n",
    "\n",
    "This dataset is inspired by Machine Learning with R by Brett Lantz. While the book provides valuable insights into machine learning in R, the associated datasets are not readily available online unless purchased or accessed through an account with Packt Publishing. This version of the dataset has been cleaned and formatted to match the book’s examples and is derived from public domain sources.\n",
    "\n",
    "\n",
    "### How to Use This Repo\n",
    "\n",
    "1. Clone or download the repository to your local machine\n",
    "2. Use the provided cleaned dataset (insurance.csv) to reproduce the regression analyses\n",
    "3. Run the R script or Python notebook for data exploration, model training, and evaluation\n",
    "4. Review the saved visualizations in the visualizations/ folder for additional insights\n",
    "\n",
    "### Technologies and Libraries\n",
    "For Python\n",
    "- Python 3.x  \n",
    "- pandas, numpy  \n",
    "- scikit-learn  \n",
    "- matplotlib, seaborn  \n",
    "For R:\n",
    "-Base R\n",
    "-readr, ggplot2 (for data import and plotting)\n",
    "-stats package (built-in, used for linear modeling)\n",
    "\n"
   ]
  },
  {
   "cell_type": "markdown",
   "id": "b1428b3e-4d36-4698-8673-45aaa892f688",
   "metadata": {},
   "source": [
    "## Author\n",
    "\n",
    "**Kehinde Soetan**  \n",
    "Medical Humanities & Computational Social Sciences Enthusiast\n",
    "\n",
    "- 📧 Email: kehindesoetan3@gmail.com  \n",
    "- 🌐 LinkedIn: [linkedin.com/in/kehindesoetan](https://linkedin.com/in/kehindesoetan)  \n",
    "\n",
    "Feel free to reach out for collaborations or discussions related to health data analysis, medical humanities, and computational social sciences.\n"
   ]
  },
  {
   "cell_type": "markdown",
   "id": "6557e3ee-69c9-47c3-b192-c82fa2f3323e",
   "metadata": {},
   "source": [
    "License\n",
    "Database: Open Database\n",
    "Contents: Open Database Content License (ODC-ODbL)\n"
   ]
  }
 ],
 "metadata": {
  "kernelspec": {
   "display_name": "base",
   "language": "python",
   "name": "python3"
  },
  "language_info": {
   "codemirror_mode": {
    "name": "ipython",
    "version": 3
   },
   "file_extension": ".py",
   "mimetype": "text/x-python",
   "name": "python",
   "nbconvert_exporter": "python",
   "pygments_lexer": "ipython3",
   "version": "3.12.7"
  }
 },
 "nbformat": 4,
 "nbformat_minor": 5
}
